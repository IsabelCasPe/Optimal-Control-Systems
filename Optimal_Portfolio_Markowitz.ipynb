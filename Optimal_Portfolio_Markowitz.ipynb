{
  "nbformat": 4,
  "nbformat_minor": 0,
  "metadata": {
    "colab": {
      "provenance": []
    },
    "kernelspec": {
      "name": "python3",
      "display_name": "Python 3"
    },
    "language_info": {
      "name": "python"
    }
  },
  "cells": [
    {
      "cell_type": "code",
      "source": [
        "!pip install ecos cvxpy numpy matplotlib scipy --upgrade\n"
      ],
      "metadata": {
        "colab": {
          "base_uri": "https://localhost:8080/"
        },
        "id": "kvWiXrbzwQJw",
        "outputId": "5eef0a73-4b20-42f3-b883-8669380d4b1b"
      },
      "execution_count": 1,
      "outputs": [
        {
          "output_type": "stream",
          "name": "stdout",
          "text": [
            "Requirement already satisfied: ecos in /usr/local/lib/python3.11/dist-packages (2.0.14)\n",
            "Requirement already satisfied: cvxpy in /usr/local/lib/python3.11/dist-packages (1.6.5)\n",
            "Requirement already satisfied: numpy in /usr/local/lib/python3.11/dist-packages (2.2.6)\n",
            "Requirement already satisfied: matplotlib in /usr/local/lib/python3.11/dist-packages (3.10.3)\n",
            "Requirement already satisfied: scipy in /usr/local/lib/python3.11/dist-packages (1.15.3)\n",
            "Requirement already satisfied: osqp>=0.6.2 in /usr/local/lib/python3.11/dist-packages (from cvxpy) (1.0.4)\n",
            "Requirement already satisfied: clarabel>=0.5.0 in /usr/local/lib/python3.11/dist-packages (from cvxpy) (0.10.0)\n",
            "Requirement already satisfied: scs>=3.2.4.post1 in /usr/local/lib/python3.11/dist-packages (from cvxpy) (3.2.7.post2)\n",
            "Requirement already satisfied: contourpy>=1.0.1 in /usr/local/lib/python3.11/dist-packages (from matplotlib) (1.3.2)\n",
            "Requirement already satisfied: cycler>=0.10 in /usr/local/lib/python3.11/dist-packages (from matplotlib) (0.12.1)\n",
            "Requirement already satisfied: fonttools>=4.22.0 in /usr/local/lib/python3.11/dist-packages (from matplotlib) (4.58.0)\n",
            "Requirement already satisfied: kiwisolver>=1.3.1 in /usr/local/lib/python3.11/dist-packages (from matplotlib) (1.4.8)\n",
            "Requirement already satisfied: packaging>=20.0 in /usr/local/lib/python3.11/dist-packages (from matplotlib) (24.2)\n",
            "Requirement already satisfied: pillow>=8 in /usr/local/lib/python3.11/dist-packages (from matplotlib) (11.2.1)\n",
            "Requirement already satisfied: pyparsing>=2.3.1 in /usr/local/lib/python3.11/dist-packages (from matplotlib) (3.2.3)\n",
            "Requirement already satisfied: python-dateutil>=2.7 in /usr/local/lib/python3.11/dist-packages (from matplotlib) (2.9.0.post0)\n",
            "Requirement already satisfied: jinja2 in /usr/local/lib/python3.11/dist-packages (from osqp>=0.6.2->cvxpy) (3.1.6)\n",
            "Requirement already satisfied: setuptools in /usr/local/lib/python3.11/dist-packages (from osqp>=0.6.2->cvxpy) (75.2.0)\n",
            "Requirement already satisfied: joblib in /usr/local/lib/python3.11/dist-packages (from osqp>=0.6.2->cvxpy) (1.5.0)\n",
            "Requirement already satisfied: six>=1.5 in /usr/local/lib/python3.11/dist-packages (from python-dateutil>=2.7->matplotlib) (1.17.0)\n",
            "Requirement already satisfied: MarkupSafe>=2.0 in /usr/local/lib/python3.11/dist-packages (from jinja2->osqp>=0.6.2->cvxpy) (3.0.2)\n"
          ]
        }
      ]
    },
    {
      "cell_type": "code",
      "execution_count": 12,
      "metadata": {
        "id": "7PdLHUAgueGV"
      },
      "outputs": [],
      "source": [
        "import numpy as np\n",
        "import matplotlib.pyplot as plt\n",
        "import cvxpy as cp"
      ]
    },
    {
      "cell_type": "markdown",
      "source": [
        "# Dados do problema"
      ],
      "metadata": {
        "id": "Q41C_7Rdx5TL"
      }
    },
    {
      "cell_type": "code",
      "source": [
        "np.random.seed(42)\n",
        "num_assets = 5\n",
        "num_samples = 1000"
      ],
      "metadata": {
        "id": "tFCKuybHuiyz"
      },
      "execution_count": 13,
      "outputs": []
    },
    {
      "cell_type": "markdown",
      "source": [
        "# Geração de retornos esperados"
      ],
      "metadata": {
        "id": "LUTHeoc2x9Tv"
      }
    },
    {
      "cell_type": "code",
      "source": [
        "mean_returns = np.random.uniform(0.05, 0.20, num_assets)"
      ],
      "metadata": {
        "id": "Sn_bc9RgxqBM"
      },
      "execution_count": 14,
      "outputs": []
    },
    {
      "cell_type": "markdown",
      "source": [
        "# Geração de uma matriz de covariância definida positiva"
      ],
      "metadata": {
        "id": "sV3MJBR6yH2s"
      }
    },
    {
      "cell_type": "code",
      "source": [
        "A = np.random.rand(num_assets, num_assets)\n",
        "cov_matrix = np.dot(A, A.T)  # Garante que seja definida positiva"
      ],
      "metadata": {
        "id": "kfGQPx_myFMp"
      },
      "execution_count": 15,
      "outputs": []
    },
    {
      "cell_type": "markdown",
      "source": [
        "# Variáveis de otimização"
      ],
      "metadata": {
        "id": "359FdouFyM0b"
      }
    },
    {
      "cell_type": "code",
      "source": [
        "w = cp.Variable(num_assets)\n",
        "retorno_portfolio = mean_returns @ w\n",
        "risco_portfolio = cp.quad_form(w, cov_matrix)"
      ],
      "metadata": {
        "id": "4L91nXHexwEy"
      },
      "execution_count": 16,
      "outputs": []
    },
    {
      "cell_type": "markdown",
      "source": [
        "# Problema de otimização de portfólio"
      ],
      "metadata": {
        "id": "30aXY5kax0SU"
      }
    },
    {
      "cell_type": "code",
      "source": [
        "alpha = 0.5  # Parâmetro de aversão ao risco\n",
        "objective = cp.Maximize(retorno_portfolio - alpha * risco_portfolio)\n",
        "constraints = [cp.sum(w) == 1, w >= 0]\n",
        "problem = cp.Problem(objective, constraints)\n",
        "\n",
        "try:\n",
        "    problem.solve(solver=cp.OSQP)\n",
        "    if problem.status != cp.OPTIMAL:\n",
        "        raise ValueError(f\"Problema não resolvido: status = {problem.status}\")\n",
        "except Exception as e:\n",
        "    print(f\"Erro ao resolver o problema: {e}\")\n",
        "    exit(1)"
      ],
      "metadata": {
        "id": "qprwOouMyVMG"
      },
      "execution_count": 17,
      "outputs": []
    },
    {
      "cell_type": "markdown",
      "source": [
        "# Resultados"
      ],
      "metadata": {
        "id": "gQ4njIyVyZD-"
      }
    },
    {
      "cell_type": "code",
      "source": [
        "print(f\"Retorno esperado do portfólio ótimo: {retorno_portfolio.value:.4f}\")\n",
        "print(f\"Risco do portfólio ótimo: {np.sqrt(risco_portfolio.value):.4f}\")\n",
        "print(f\"Pesos do portfólio ótimo: {w.value}\")"
      ],
      "metadata": {
        "colab": {
          "base_uri": "https://localhost:8080/"
        },
        "id": "Qq_Um6Z5ybPr",
        "outputId": "cdc45b82-78b3-4636-e2dc-e02163241872"
      },
      "execution_count": 18,
      "outputs": [
        {
          "output_type": "stream",
          "name": "stdout",
          "text": [
            "Retorno esperado do portfólio ótimo: 0.1562\n",
            "Risco do portfólio ótimo: 0.8099\n",
            "Pesos do portfólio ótimo: [ 4.84751157e-23  4.51896147e-24  8.17983137e-01  1.82016863e-01\n",
            " -7.99339474e-23]\n"
          ]
        }
      ]
    },
    {
      "cell_type": "markdown",
      "source": [
        "# Visualização"
      ],
      "metadata": {
        "id": "2YY4BptZyfTU"
      }
    },
    {
      "cell_type": "code",
      "source": [
        "tick_labels = [f\"Ativo {i+1}\" for i in range(num_assets)]\n",
        "plt.figure(figsize=(10, 6))\n",
        "plt.bar(tick_labels, w.value, color=\"#005B7F\")\n",
        "plt.title(\"Pesos do Portfólio Ótimo\")\n",
        "plt.xlabel(\"Ativos\")\n",
        "plt.ylabel(\"Peso no Portfólio\")\n",
        "plt.show()\n"
      ],
      "metadata": {
        "colab": {
          "base_uri": "https://localhost:8080/",
          "height": 564
        },
        "id": "uRrHiczHw7wB",
        "outputId": "4802930a-192e-4fba-820b-d6a9a83390de"
      },
      "execution_count": 19,
      "outputs": [
        {
          "output_type": "display_data",
          "data": {
            "text/plain": [
              "<Figure size 1000x600 with 1 Axes>"
            ],
            "image/png": "[encoded data removed]"
          },
          "metadata": {}
        }
      ]
    },
    {
      "cell_type": "markdown",
      "source": [
        "\n",
        "# O código imprime três informações principais:\n",
        "\n",
        "# 1. Retorno Esperado do Portfólio Ótimo:\n",
        "- Este valor representa a média ponderada dos retornos esperados dos ativos,\n",
        "considerando os pesos ótimos encontrados.\n",
        "\n",
        "# 2. Risco do Portfólio Ótimo:\n",
        "- Calculado como a raiz quadrada da forma quadrática (matriz de covariância), este valor indica a volatilidade esperada do portfólio.\n",
        "# 3. Pesos do Portfólio Ótimo:\n",
        "- Mostra a proporção de capital alocada em cada ativo, onde a soma dos pesos\n",
        "é igual a 1. Valores próximos de zero indicam baixa exposição ao ativo,\n",
        "enquanto valores próximos de 1 indicam maior confiança nesse ativo.\n",
        "# 🔎 Exemplo de Saída:\n",
        " Retorno esperado do portfólio ótimo: 0.1254\n",
        "Risco do portfólio ótimo: 0.0752\n",
        "Pesos do portfólio ótimo: [0.2034 0.1765 0.3125 0.0876 0.2200]\n",
        "\n",
        "# 📊 Interpretação dos Gráficos:\n",
        "- O gráfico de barras mostra a distribuição dos pesos ótimos entre os ativos.\n",
        "- Ativos com maior peso representam aqueles com melhor relação risco-retorno.\n"
      ],
      "metadata": {
        "id": "AErUFRg1z9en"
      }
    }
  ]
}